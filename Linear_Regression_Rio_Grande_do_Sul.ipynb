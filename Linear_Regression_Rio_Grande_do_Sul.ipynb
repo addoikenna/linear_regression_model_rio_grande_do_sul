{
 "cells": [
  {
   "cell_type": "code",
   "execution_count": 22,
   "id": "a17a494c",
   "metadata": {},
   "outputs": [],
   "source": [
    "import pandas as pd\n",
    "import numpy as np\n",
    "import matplotlib.pyplot as plt\n",
    "import seaborn as sns\n",
    "import plotly.express as px\n",
    "\n",
    "from sklearn.linear_model import LinearRegression\n",
    "from sklearn.metrics import mean_absolute_error\n",
    "from sklearn.utils.validation import check_is_fitted\n",
    "sns.set()"
   ]
  },
  {
   "cell_type": "code",
   "execution_count": 2,
   "id": "a0d599f6",
   "metadata": {},
   "outputs": [
    {
     "data": {
      "text/html": [
       "<div>\n",
       "<style scoped>\n",
       "    .dataframe tbody tr th:only-of-type {\n",
       "        vertical-align: middle;\n",
       "    }\n",
       "\n",
       "    .dataframe tbody tr th {\n",
       "        vertical-align: top;\n",
       "    }\n",
       "\n",
       "    .dataframe thead th {\n",
       "        text-align: right;\n",
       "    }\n",
       "</style>\n",
       "<table border=\"1\" class=\"dataframe\">\n",
       "  <thead>\n",
       "    <tr style=\"text-align: right;\">\n",
       "      <th></th>\n",
       "      <th>property_type</th>\n",
       "      <th>region</th>\n",
       "      <th>area_m2</th>\n",
       "      <th>price_usd</th>\n",
       "      <th>lat</th>\n",
       "      <th>lon</th>\n",
       "      <th>state</th>\n",
       "    </tr>\n",
       "  </thead>\n",
       "  <tbody>\n",
       "    <tr>\n",
       "      <th>0</th>\n",
       "      <td>apartment</td>\n",
       "      <td>Northeast</td>\n",
       "      <td>110.0</td>\n",
       "      <td>187230.85</td>\n",
       "      <td>-9.644305</td>\n",
       "      <td>-35.708814</td>\n",
       "      <td>Alagoas</td>\n",
       "    </tr>\n",
       "    <tr>\n",
       "      <th>1</th>\n",
       "      <td>apartment</td>\n",
       "      <td>Northeast</td>\n",
       "      <td>65.0</td>\n",
       "      <td>81133.37</td>\n",
       "      <td>-9.643093</td>\n",
       "      <td>-35.704840</td>\n",
       "      <td>Alagoas</td>\n",
       "    </tr>\n",
       "    <tr>\n",
       "      <th>2</th>\n",
       "      <td>house</td>\n",
       "      <td>Northeast</td>\n",
       "      <td>211.0</td>\n",
       "      <td>154465.45</td>\n",
       "      <td>-9.622703</td>\n",
       "      <td>-35.729795</td>\n",
       "      <td>Alagoas</td>\n",
       "    </tr>\n",
       "    <tr>\n",
       "      <th>3</th>\n",
       "      <td>apartment</td>\n",
       "      <td>Northeast</td>\n",
       "      <td>99.0</td>\n",
       "      <td>146013.20</td>\n",
       "      <td>-9.622837</td>\n",
       "      <td>-35.719556</td>\n",
       "      <td>Alagoas</td>\n",
       "    </tr>\n",
       "    <tr>\n",
       "      <th>4</th>\n",
       "      <td>apartment</td>\n",
       "      <td>Northeast</td>\n",
       "      <td>55.0</td>\n",
       "      <td>101416.71</td>\n",
       "      <td>-9.654955</td>\n",
       "      <td>-35.700227</td>\n",
       "      <td>Alagoas</td>\n",
       "    </tr>\n",
       "  </tbody>\n",
       "</table>\n",
       "</div>"
      ],
      "text/plain": [
       "  property_type     region  area_m2  price_usd       lat        lon    state\n",
       "0     apartment  Northeast    110.0  187230.85 -9.644305 -35.708814  Alagoas\n",
       "1     apartment  Northeast     65.0   81133.37 -9.643093 -35.704840  Alagoas\n",
       "2         house  Northeast    211.0  154465.45 -9.622703 -35.729795  Alagoas\n",
       "3     apartment  Northeast     99.0  146013.20 -9.622837 -35.719556  Alagoas\n",
       "4     apartment  Northeast     55.0  101416.71 -9.654955 -35.700227  Alagoas"
      ]
     },
     "execution_count": 2,
     "metadata": {},
     "output_type": "execute_result"
    }
   ],
   "source": [
    "df = pd.read_csv(\"brasil-real-estate-clean.csv\")\n",
    "df.head()"
   ]
  },
  {
   "cell_type": "code",
   "execution_count": 3,
   "id": "e509aaf7",
   "metadata": {},
   "outputs": [
    {
     "data": {
      "text/plain": [
       "(22844, 7)"
      ]
     },
     "execution_count": 3,
     "metadata": {},
     "output_type": "execute_result"
    }
   ],
   "source": [
    "df.shape"
   ]
  },
  {
   "cell_type": "code",
   "execution_count": 4,
   "id": "48b4a1a6",
   "metadata": {},
   "outputs": [
    {
     "data": {
      "text/plain": [
       "array(['Alagoas', 'Amapá', 'Amazonas', 'Bahia', 'Ceará',\n",
       "       'Distrito Federal', 'Espírito Santo', 'Goiás', 'Maranhão',\n",
       "       'Mato Grosso', 'Mato Grosso do Sul', 'Minas Gerais', 'Paraná',\n",
       "       'Paraíba', 'Pará', 'Pernambuco', 'Piauí', 'Rio Grande do Norte',\n",
       "       'Rio Grande do Sul', 'Rio de Janeiro', 'Rondônia',\n",
       "       'Santa Catarina', 'Sergipe', 'São Paulo', 'Tocantins'],\n",
       "      dtype=object)"
      ]
     },
     "execution_count": 4,
     "metadata": {},
     "output_type": "execute_result"
    }
   ],
   "source": [
    "df[\"state\"].unique()"
   ]
  },
  {
   "cell_type": "code",
   "execution_count": 5,
   "id": "8147b8b4",
   "metadata": {},
   "outputs": [
    {
     "data": {
      "text/html": [
       "<div>\n",
       "<style scoped>\n",
       "    .dataframe tbody tr th:only-of-type {\n",
       "        vertical-align: middle;\n",
       "    }\n",
       "\n",
       "    .dataframe tbody tr th {\n",
       "        vertical-align: top;\n",
       "    }\n",
       "\n",
       "    .dataframe thead th {\n",
       "        text-align: right;\n",
       "    }\n",
       "</style>\n",
       "<table border=\"1\" class=\"dataframe\">\n",
       "  <thead>\n",
       "    <tr style=\"text-align: right;\">\n",
       "      <th></th>\n",
       "      <th>property_type</th>\n",
       "      <th>region</th>\n",
       "      <th>area_m2</th>\n",
       "      <th>price_usd</th>\n",
       "      <th>lat</th>\n",
       "      <th>lon</th>\n",
       "      <th>state</th>\n",
       "    </tr>\n",
       "  </thead>\n",
       "  <tbody>\n",
       "    <tr>\n",
       "      <th>12195</th>\n",
       "      <td>house</td>\n",
       "      <td>South</td>\n",
       "      <td>188.0</td>\n",
       "      <td>115770.288401</td>\n",
       "      <td>-30.027105</td>\n",
       "      <td>-51.130470</td>\n",
       "      <td>Rio Grande do Sul</td>\n",
       "    </tr>\n",
       "    <tr>\n",
       "      <th>12196</th>\n",
       "      <td>apartment</td>\n",
       "      <td>South</td>\n",
       "      <td>65.0</td>\n",
       "      <td>123430.141066</td>\n",
       "      <td>-30.039816</td>\n",
       "      <td>-51.223164</td>\n",
       "      <td>Rio Grande do Sul</td>\n",
       "    </tr>\n",
       "    <tr>\n",
       "      <th>12197</th>\n",
       "      <td>apartment</td>\n",
       "      <td>South</td>\n",
       "      <td>142.0</td>\n",
       "      <td>185145.222571</td>\n",
       "      <td>-29.696850</td>\n",
       "      <td>-53.858382</td>\n",
       "      <td>Rio Grande do Sul</td>\n",
       "    </tr>\n",
       "    <tr>\n",
       "      <th>12198</th>\n",
       "      <td>apartment</td>\n",
       "      <td>South</td>\n",
       "      <td>151.0</td>\n",
       "      <td>256571.996865</td>\n",
       "      <td>-30.033820</td>\n",
       "      <td>-51.198596</td>\n",
       "      <td>Rio Grande do Sul</td>\n",
       "    </tr>\n",
       "    <tr>\n",
       "      <th>12199</th>\n",
       "      <td>apartment</td>\n",
       "      <td>South</td>\n",
       "      <td>68.0</td>\n",
       "      <td>75957.012539</td>\n",
       "      <td>-30.034061</td>\n",
       "      <td>-51.135494</td>\n",
       "      <td>Rio Grande do Sul</td>\n",
       "    </tr>\n",
       "  </tbody>\n",
       "</table>\n",
       "</div>"
      ],
      "text/plain": [
       "      property_type region  area_m2      price_usd        lat        lon  \\\n",
       "12195         house  South    188.0  115770.288401 -30.027105 -51.130470   \n",
       "12196     apartment  South     65.0  123430.141066 -30.039816 -51.223164   \n",
       "12197     apartment  South    142.0  185145.222571 -29.696850 -53.858382   \n",
       "12198     apartment  South    151.0  256571.996865 -30.033820 -51.198596   \n",
       "12199     apartment  South     68.0   75957.012539 -30.034061 -51.135494   \n",
       "\n",
       "                   state  \n",
       "12195  Rio Grande do Sul  \n",
       "12196  Rio Grande do Sul  \n",
       "12197  Rio Grande do Sul  \n",
       "12198  Rio Grande do Sul  \n",
       "12199  Rio Grande do Sul  "
      ]
     },
     "execution_count": 5,
     "metadata": {},
     "output_type": "execute_result"
    }
   ],
   "source": [
    "df_rio = df[df[\"state\"] == \"Rio Grande do Sul\"]\n",
    "df_rio.head()"
   ]
  },
  {
   "cell_type": "code",
   "execution_count": 6,
   "id": "96edc5f1",
   "metadata": {},
   "outputs": [
    {
     "data": {
      "text/plain": [
       "(2643, 7)"
      ]
     },
     "execution_count": 6,
     "metadata": {},
     "output_type": "execute_result"
    }
   ],
   "source": [
    "df_rio.shape"
   ]
  },
  {
   "cell_type": "markdown",
   "id": "383f31ed",
   "metadata": {},
   "source": [
    "Check the distribution of apartments using a histogram of `area_m2`"
   ]
  },
  {
   "cell_type": "code",
   "execution_count": 7,
   "id": "f19e46fc",
   "metadata": {},
   "outputs": [
    {
     "data": {
      "image/png": "[encoded data removed]",
      "text/plain": [
       "<Figure size 432x288 with 1 Axes>"
      ]
     },
     "metadata": {},
     "output_type": "display_data"
    }
   ],
   "source": [
    "# Build histogram\n",
    "plt.hist(\n",
    "    df[\"area_m2\"]\n",
    ")\n",
    "\n",
    "\n",
    "# Label axes\n",
    "plt.xlabel(\"Area [sq meters]\")\n",
    "plt.ylabel(\"Frequency\")\n",
    "\n",
    "# Add title\n",
    "plt.title(\"Distribution of Apartment Sizes\")\n",
    "\n",
    "# save the histogram as an image\n",
    "plt.savefig(\"images/1-1.png\", dpi=150)"
   ]
  },
  {
   "cell_type": "markdown",
   "id": "692d3108",
   "metadata": {},
   "source": [
    "Explore the relationship between `price_usd`and `area_m2`"
   ]
  },
  {
   "cell_type": "code",
   "execution_count": 8,
   "id": "9695b7fa",
   "metadata": {},
   "outputs": [
    {
     "data": {
      "image/png": "[encoded data removed]",
      "text/plain": [
       "<Figure size 432x288 with 1 Axes>"
      ]
     },
     "metadata": {},
     "output_type": "display_data"
    }
   ],
   "source": [
    "plt.scatter(x=df_rio.area_m2, y=df_rio.price_usd)\n",
    "\n",
    "# Add axis labels\n",
    "plt.xlabel(\"Area [sq meter]\")\n",
    "plt.ylabel(\"Price [USD]\")\n",
    "\n",
    "# Add title\n",
    "plt.title(\"Rio Grande do Sul: Price vs Area\")\n",
    "\n",
    "# save the histogram as an image\n",
    "plt.savefig(\"images/1-2.png\", dpi=150)"
   ]
  },
  {
   "cell_type": "markdown",
   "id": "a254775c",
   "metadata": {},
   "source": [
    "Check summary statistics using `describe()` function"
   ]
  },
  {
   "cell_type": "code",
   "execution_count": 9,
   "id": "32b58932",
   "metadata": {},
   "outputs": [
    {
     "data": {
      "text/plain": [
       "count    2643.000000\n",
       "mean      108.667045\n",
       "std        48.617935\n",
       "min        53.000000\n",
       "25%        71.000000\n",
       "50%        93.000000\n",
       "75%       132.500000\n",
       "max       252.000000\n",
       "Name: area_m2, dtype: float64"
      ]
     },
     "execution_count": 9,
     "metadata": {},
     "output_type": "execute_result"
    }
   ],
   "source": [
    "df_rio[\"area_m2\"].describe()"
   ]
  },
  {
   "cell_type": "markdown",
   "id": "8a9906aa",
   "metadata": {},
   "source": [
    "Create a horizontal boxplot of `\"area_m2\"`. X label `\"Area [sq meters]\"` and the plot has the title `\"Distribution of Home Sizes\"`. Use Matplotlib (`plt`)."
   ]
  },
  {
   "cell_type": "code",
   "execution_count": 10,
   "id": "171977ab",
   "metadata": {},
   "outputs": [
    {
     "data": {
      "image/png": "[encoded data removed]",
      "text/plain": [
       "<Figure size 432x288 with 1 Axes>"
      ]
     },
     "metadata": {},
     "output_type": "display_data"
    }
   ],
   "source": [
    "# Build box plot\n",
    "\n",
    "plt.boxplot(\n",
    "     df_rio[\"area_m2\"],\n",
    "    vert=False\n",
    ")\n",
    "\n",
    "\n",
    "# Label x-axis\n",
    "plt.xlabel(\"Area [sq meters]\")\n",
    "\n",
    "# Add title\n",
    "plt.title(\"Distribution of Home Sizes\")\n",
    "\n",
    "# Don't change the code below 👇\n",
    "plt.savefig(\"images/1-3.png\", dpi=150)"
   ]
  },
  {
   "cell_type": "markdown",
   "id": "9da572dc",
   "metadata": {},
   "source": [
    "There are `\"outliers\"` So we will try to remove the `outliers` "
   ]
  },
  {
   "cell_type": "markdown",
   "id": "98a6faf6",
   "metadata": {},
   "source": [
    "Since **75%** of the apartments are less than  **150 sq meters**, remove the *top 10%* and *bottom 10%*"
   ]
  },
  {
   "cell_type": "code",
   "execution_count": 11,
   "id": "c72655e3",
   "metadata": {},
   "outputs": [],
   "source": [
    "# Get apartments between the quartile range\n",
    "low, high = df_rio[\"area_m2\"].quantile([0.1, 0.9])\n",
    "\n",
    "mask_area = df_rio[\"area_m2\"].between(low, high)\n",
    "\n",
    "df_rio = df_rio[mask_area]"
   ]
  },
  {
   "cell_type": "code",
   "execution_count": 12,
   "id": "6492cecc",
   "metadata": {},
   "outputs": [
    {
     "name": "stdout",
     "output_type": "stream",
     "text": [
      "<class 'pandas.core.frame.DataFrame'>\n",
      "Int64Index: 2142 entries, 12196 to 14837\n",
      "Data columns (total 7 columns):\n",
      " #   Column         Non-Null Count  Dtype  \n",
      "---  ------         --------------  -----  \n",
      " 0   property_type  2142 non-null   object \n",
      " 1   region         2142 non-null   object \n",
      " 2   area_m2        2142 non-null   float64\n",
      " 3   price_usd      2142 non-null   float64\n",
      " 4   lat            2142 non-null   float64\n",
      " 5   lon            2142 non-null   float64\n",
      " 6   state          2142 non-null   object \n",
      "dtypes: float64(4), object(3)\n",
      "memory usage: 133.9+ KB\n"
     ]
    }
   ],
   "source": [
    "df_rio.info()"
   ]
  },
  {
   "cell_type": "code",
   "execution_count": 13,
   "id": "9534b502",
   "metadata": {},
   "outputs": [
    {
     "data": {
      "text/plain": [
       "(2142, 7)"
      ]
     },
     "execution_count": 13,
     "metadata": {},
     "output_type": "execute_result"
    }
   ],
   "source": [
    "df_rio.shape"
   ]
  },
  {
   "cell_type": "code",
   "execution_count": 14,
   "id": "5164cea0",
   "metadata": {},
   "outputs": [
    {
     "data": {
      "image/png": "[encoded data removed]",
      "text/plain": [
       "<Figure size 432x288 with 1 Axes>"
      ]
     },
     "metadata": {},
     "output_type": "display_data"
    }
   ],
   "source": [
    "# Build box plot\n",
    "\n",
    "plt.boxplot(\n",
    "     df_rio[\"area_m2\"],\n",
    "    vert=False\n",
    ")\n",
    "\n",
    "\n",
    "# Label x-axis\n",
    "plt.xlabel(\"Area [sq meters]\")\n",
    "\n",
    "# Add title\n",
    "plt.title(\"Distribution of Home Sizes\")\n",
    "\n",
    "# Don't change the code below 👇\n",
    "plt.savefig(\"images/1-4.png\", dpi=150)"
   ]
  },
  {
   "cell_type": "markdown",
   "id": "62b323fa",
   "metadata": {},
   "source": [
    "Again let us explore the relationship between the `price_usd`and `area_m2`"
   ]
  },
  {
   "cell_type": "code",
   "execution_count": 70,
   "id": "0ca186b7",
   "metadata": {},
   "outputs": [
    {
     "data": {
      "image/png": "[encoded data removed]",
      "text/plain": [
       "<Figure size 432x288 with 1 Axes>"
      ]
     },
     "metadata": {},
     "output_type": "display_data"
    }
   ],
   "source": [
    "plt.scatter(x=df_rio.area_m2, y=df_rio.price_usd)\n",
    "\n",
    "# Add axis labels\n",
    "plt.xlabel(\"Area [sq meter]\")\n",
    "plt.ylabel(\"Price [USD]\")\n",
    "\n",
    "# Add title\n",
    "plt.title(\"Rio Grande do Sul: Price vs Area\")\n",
    "\n",
    "# save the histogram as an image\n",
    "plt.savefig(\"images/1-5.png\", dpi=150)"
   ]
  },
  {
   "cell_type": "markdown",
   "id": "f1639b15",
   "metadata": {},
   "source": [
    "## Split"
   ]
  },
  {
   "cell_type": "markdown",
   "id": "803d5e74",
   "metadata": {},
   "source": [
    "**Vertical split** - Split `df_rio` into the feature matrix (X) and target vector (y)"
   ]
  },
  {
   "cell_type": "code",
   "execution_count": 34,
   "id": "94ae2754",
   "metadata": {},
   "outputs": [],
   "source": [
    "target = \"price_usd\"\n",
    "feature = [\"area_m2\"]\n",
    "\n",
    "y = df_rio[target]\n",
    "X = df_rio[feature]"
   ]
  },
  {
   "cell_type": "code",
   "execution_count": 35,
   "id": "53a62c3a",
   "metadata": {},
   "outputs": [
    {
     "data": {
      "text/plain": [
       "12196    123430.141066\n",
       "12197    185145.222571\n",
       "12198    256571.996865\n",
       "12199     75957.012539\n",
       "12200    237365.667712\n",
       "Name: price_usd, dtype: float64"
      ]
     },
     "execution_count": 35,
     "metadata": {},
     "output_type": "execute_result"
    }
   ],
   "source": [
    "y.head()"
   ]
  },
  {
   "cell_type": "code",
   "execution_count": 36,
   "id": "876f9262",
   "metadata": {},
   "outputs": [
    {
     "data": {
      "text/html": [
       "<div>\n",
       "<style scoped>\n",
       "    .dataframe tbody tr th:only-of-type {\n",
       "        vertical-align: middle;\n",
       "    }\n",
       "\n",
       "    .dataframe tbody tr th {\n",
       "        vertical-align: top;\n",
       "    }\n",
       "\n",
       "    .dataframe thead th {\n",
       "        text-align: right;\n",
       "    }\n",
       "</style>\n",
       "<table border=\"1\" class=\"dataframe\">\n",
       "  <thead>\n",
       "    <tr style=\"text-align: right;\">\n",
       "      <th></th>\n",
       "      <th>area_m2</th>\n",
       "    </tr>\n",
       "  </thead>\n",
       "  <tbody>\n",
       "    <tr>\n",
       "      <th>12196</th>\n",
       "      <td>65.0</td>\n",
       "    </tr>\n",
       "    <tr>\n",
       "      <th>12197</th>\n",
       "      <td>142.0</td>\n",
       "    </tr>\n",
       "    <tr>\n",
       "      <th>12198</th>\n",
       "      <td>151.0</td>\n",
       "    </tr>\n",
       "    <tr>\n",
       "      <th>12199</th>\n",
       "      <td>68.0</td>\n",
       "    </tr>\n",
       "    <tr>\n",
       "      <th>12200</th>\n",
       "      <td>149.0</td>\n",
       "    </tr>\n",
       "  </tbody>\n",
       "</table>\n",
       "</div>"
      ],
      "text/plain": [
       "       area_m2\n",
       "12196     65.0\n",
       "12197    142.0\n",
       "12198    151.0\n",
       "12199     68.0\n",
       "12200    149.0"
      ]
     },
     "execution_count": 36,
     "metadata": {},
     "output_type": "execute_result"
    }
   ],
   "source": [
    "X.head()"
   ]
  },
  {
   "cell_type": "markdown",
   "id": "4331a548",
   "metadata": {},
   "source": [
    "**Horizontal (Train-Test) Split** - Split X and y into training and test sets. 80% of the data should be for training and the remaining 20% for test"
   ]
  },
  {
   "cell_type": "code",
   "execution_count": 37,
   "id": "13e7954f",
   "metadata": {},
   "outputs": [],
   "source": [
    "cutoff = int(len(X) * 0.8)\n",
    "\n",
    "X_train, y_train = X.iloc[:cutoff], y.iloc[:cutoff]\n",
    "\n",
    "X_test, y_test = X.iloc[cutoff:], y.iloc[cutoff:]"
   ]
  },
  {
   "cell_type": "markdown",
   "id": "3632526a",
   "metadata": {},
   "source": [
    "## BUILD MODEL"
   ]
  },
  {
   "cell_type": "markdown",
   "id": "fd9e48b2",
   "metadata": {},
   "source": [
    "Baseline `mean_absolute_error`"
   ]
  },
  {
   "cell_type": "code",
   "execution_count": 71,
   "id": "ad01381b",
   "metadata": {},
   "outputs": [
    {
     "data": {
      "text/plain": [
       "169853.71035068404"
      ]
     },
     "execution_count": 71,
     "metadata": {},
     "output_type": "execute_result"
    }
   ],
   "source": [
    "# Find the mean value for all the `y_train`\n",
    "y_mean = y_train.mean()\n",
    "y_mean"
   ]
  },
  {
   "cell_type": "markdown",
   "id": "e73a9be9",
   "metadata": {},
   "source": [
    "***Prediction List***"
   ]
  },
  {
   "cell_type": "markdown",
   "id": "07ffa4a2",
   "metadata": {},
   "source": [
    "Create a list **y_pred_baseline** that contains the value of `y_mean` repeated so that it is the same length as `y`"
   ]
  },
  {
   "cell_type": "code",
   "execution_count": 39,
   "id": "ae9b09c6",
   "metadata": {},
   "outputs": [],
   "source": [
    "y_pred_baseline = [y_mean] * len(y_train)"
   ]
  },
  {
   "cell_type": "code",
   "execution_count": 40,
   "id": "4bf40f1c",
   "metadata": {},
   "outputs": [
    {
     "data": {
      "text/plain": [
       "1713"
      ]
     },
     "execution_count": 40,
     "metadata": {},
     "output_type": "execute_result"
    }
   ],
   "source": [
    "len(X_train)"
   ]
  },
  {
   "cell_type": "markdown",
   "id": "0de61b66",
   "metadata": {},
   "source": [
    "**Baseline Scatter Plot:** Plot the baseline on top of the area vs price scatterplot"
   ]
  },
  {
   "cell_type": "code",
   "execution_count": 66,
   "id": "b622c7ba",
   "metadata": {},
   "outputs": [
    {
     "data": {
      "image/png": "[encoded data removed]",
      "text/plain": [
       "<Figure size 432x288 with 1 Axes>"
      ]
     },
     "metadata": {},
     "output_type": "display_data"
    }
   ],
   "source": [
    "# Area vs price scatter plot\n",
    "plt.scatter(x=df_rio[\"area_m2\"], y=df_rio[\"price_usd\"])\n",
    "\n",
    "# Baseline plot\n",
    "plt.plot(X_train, y_pred_baseline, label = \"Baseline\", color = \"orange\")\n",
    "\n",
    "# Add axis labels\n",
    "plt.xlabel(\"Area [sq meter]\")\n",
    "plt.ylabel(\"Price [USD]\")\n",
    "\n",
    "# Add title\n",
    "plt.title(\"Rio Grande do Sul: Price vs Area\")\n",
    "\n",
    "plt.legend()\n",
    "\n",
    "# save the histogram as an image\n",
    "plt.savefig(\"images/1-6.png\", dpi=150)"
   ]
  },
  {
   "cell_type": "markdown",
   "id": "3d10fb46",
   "metadata": {},
   "source": [
    "**Baseline Mean Absolute Error:** Calculate the baseline `mean_absolute_error` for prediction in **y_pred_baseline** as compared to the true targets in y. ***The target is to get the mean absolute error closest to zero***"
   ]
  },
  {
   "cell_type": "code",
   "execution_count": 43,
   "id": "e8713a3a",
   "metadata": {},
   "outputs": [
    {
     "name": "stdout",
     "output_type": "stream",
     "text": [
      "Mean Apartment Price:  169853.71\n",
      "Baseline MAE:  61273.03\n"
     ]
    }
   ],
   "source": [
    "mae_baseline = mean_absolute_error(y_train, y_pred_baseline)\n",
    "\n",
    "print(\"Mean Apartment Price: \", round(y_mean, 2))\n",
    "print(\"Baseline MAE: \", round(mae_baseline, 2))"
   ]
  },
  {
   "cell_type": "markdown",
   "id": "5a02ffac",
   "metadata": {},
   "source": [
    "**Instantiate Model**"
   ]
  },
  {
   "cell_type": "markdown",
   "id": "563ecc0d",
   "metadata": {},
   "source": [
    "Instantiate a `LinearRegression` model to be trained."
   ]
  },
  {
   "cell_type": "code",
   "execution_count": 45,
   "id": "1d2aa7de",
   "metadata": {},
   "outputs": [],
   "source": [
    "model = LinearRegression()"
   ]
  },
  {
   "cell_type": "markdown",
   "id": "2a1a86d4",
   "metadata": {},
   "source": [
    "**Train Model**"
   ]
  },
  {
   "cell_type": "markdown",
   "id": "5c5e052d",
   "metadata": {},
   "source": [
    "Fit the model to the training set **(X_train and y_train)**"
   ]
  },
  {
   "cell_type": "code",
   "execution_count": 46,
   "id": "084d8d76",
   "metadata": {},
   "outputs": [
    {
     "data": {
      "text/plain": [
       "LinearRegression()"
      ]
     },
     "execution_count": 46,
     "metadata": {},
     "output_type": "execute_result"
    }
   ],
   "source": [
    "model.fit(X_train, y_train)"
   ]
  },
  {
   "cell_type": "code",
   "execution_count": 48,
   "id": "676baab5",
   "metadata": {},
   "outputs": [],
   "source": [
    "# Check if model is fitted\n",
    "check_is_fitted(model)"
   ]
  },
  {
   "cell_type": "markdown",
   "id": "0da82dd9",
   "metadata": {},
   "source": [
    "**Evaluate Model:** See how the data performs when making predictions on the data that it saw during training."
   ]
  },
  {
   "cell_type": "code",
   "execution_count": 49,
   "id": "80843a72",
   "metadata": {},
   "outputs": [
    {
     "data": {
      "text/plain": [
       "array([124326.56418015, 221279.58344199, 232611.75452454, ...,\n",
       "       155804.81718724, 194837.85091603, 129363.08466128])"
      ]
     },
     "execution_count": 49,
     "metadata": {},
     "output_type": "execute_result"
    }
   ],
   "source": [
    "y_pred_training = model.predict(X_train)\n",
    "\n",
    "y_pred_training"
   ]
  },
  {
   "cell_type": "markdown",
   "id": "bbb1080b",
   "metadata": {},
   "source": [
    "**Training Mean Absolute Error:** Calculate the mean absolute error of the prediction in y_pred_training as compared to the true targets in y_train"
   ]
  },
  {
   "cell_type": "code",
   "execution_count": 51,
   "id": "b38689ee",
   "metadata": {},
   "outputs": [
    {
     "name": "stdout",
     "output_type": "stream",
     "text": [
      "Training MAE:  52659.6\n"
     ]
    }
   ],
   "source": [
    "mae_training = mean_absolute_error(y_train, y_pred_training)\n",
    "\n",
    "print(\"Training MAE: \", round(mae_training, 2))"
   ]
  },
  {
   "cell_type": "markdown",
   "id": "cf78c6ad",
   "metadata": {},
   "source": [
    "**Evaluate Model:** Check how the model performs on the data that it has not seen before (test sets)"
   ]
  },
  {
   "cell_type": "code",
   "execution_count": 56,
   "id": "fccfb5b3",
   "metadata": {},
   "outputs": [
    {
     "data": {
      "text/plain": [
       "0    216243.062961\n",
       "1    135658.735263\n",
       "2    130622.214782\n",
       "3    242684.795487\n",
       "4    165877.858150\n",
       "dtype: float64"
      ]
     },
     "execution_count": 56,
     "metadata": {},
     "output_type": "execute_result"
    }
   ],
   "source": [
    "y_pred_test = pd.Series(model.predict(X_test))\n",
    "\n",
    "y_pred_test.head()"
   ]
  },
  {
   "cell_type": "code",
   "execution_count": null,
   "id": "074ab586",
   "metadata": {},
   "outputs": [],
   "source": []
  },
  {
   "cell_type": "raw",
   "id": "dff7c76f",
   "metadata": {},
   "source": [
    "## COMMUNICATE RESULTS"
   ]
  },
  {
   "cell_type": "markdown",
   "id": "55a51400",
   "metadata": {},
   "source": [
    "**Extract model Intercept**"
   ]
  },
  {
   "cell_type": "code",
   "execution_count": 60,
   "id": "2004a37b",
   "metadata": {},
   "outputs": [
    {
     "data": {
      "text/plain": [
       "42483.11"
      ]
     },
     "execution_count": 60,
     "metadata": {},
     "output_type": "execute_result"
    }
   ],
   "source": [
    "intercept = round(model.intercept_, 2)\n",
    "intercept"
   ]
  },
  {
   "cell_type": "markdown",
   "id": "e99c82a8",
   "metadata": {},
   "source": [
    "**Extract Model Coefficient**"
   ]
  },
  {
   "cell_type": "code",
   "execution_count": 62,
   "id": "9624d546",
   "metadata": {},
   "outputs": [
    {
     "data": {
      "text/plain": [
       "1259.13"
      ]
     },
     "execution_count": 62,
     "metadata": {},
     "output_type": "execute_result"
    }
   ],
   "source": [
    "coefficient = round(model.coef_[0], 2)\n",
    "coefficient"
   ]
  },
  {
   "cell_type": "markdown",
   "id": "0d13a905",
   "metadata": {},
   "source": [
    "**Model Equattion**"
   ]
  },
  {
   "cell_type": "markdown",
   "id": "4190bed1",
   "metadata": {},
   "source": [
    "y = intercept + (coefficient * area_m2)"
   ]
  },
  {
   "cell_type": "markdown",
   "id": "09f0d972",
   "metadata": {},
   "source": [
    "y = 42483.11 + (1259.13 * area_m2)"
   ]
  },
  {
   "cell_type": "markdown",
   "id": "74f7c82d",
   "metadata": {},
   "source": [
    "### **Visualize:** Plot Model"
   ]
  },
  {
   "cell_type": "code",
   "execution_count": 69,
   "id": "f5854834",
   "metadata": {},
   "outputs": [
    {
     "data": {
      "image/png": "[encoded data removed]",
      "text/plain": [
       "<Figure size 432x288 with 1 Axes>"
      ]
     },
     "metadata": {},
     "output_type": "display_data"
    }
   ],
   "source": [
    "plt.plot(X_train, model.predict(X_train), color = \"r\", label = \"Linear Model\")\n",
    "\n",
    "plt.scatter(X_train, y_train)\n",
    "\n",
    "# Add axis labels\n",
    "plt.xlabel(\"Area [sq meter]\")\n",
    "plt.ylabel(\"Price [USD]\")\n",
    "\n",
    "# Add title\n",
    "plt.title(\"Rio Grande do Sul: Linear Regression\")\n",
    "\n",
    "plt.legend()\n",
    "\n",
    "# save the histogram as an image\n",
    "plt.savefig(\"images/1-7.png\", dpi=150)"
   ]
  },
  {
   "cell_type": "code",
   "execution_count": null,
   "id": "9d9c853f",
   "metadata": {},
   "outputs": [],
   "source": []
  }
 ],
 "metadata": {
  "kernelspec": {
   "display_name": "Python 3 (ipykernel)",
   "language": "python",
   "name": "python3"
  },
  "language_info": {
   "codemirror_mode": {
    "name": "ipython",
    "version": 3
   },
   "file_extension": ".py",
   "mimetype": "text/x-python",
   "name": "python",
   "nbconvert_exporter": "python",
   "pygments_lexer": "ipython3",
   "version": "3.9.7"
  }
 },
 "nbformat": 4,
 "nbformat_minor": 5
}
